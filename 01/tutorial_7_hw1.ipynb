{
 "cells": [
  {
   "cell_type": "code",
   "execution_count": 2,
   "metadata": {
    "ExecuteTime": {
     "end_time": "2020-11-02T21:44:57.895247Z",
     "start_time": "2020-11-02T21:44:57.888823Z"
    }
   },
   "outputs": [],
   "source": [
    "import pandas as pd\n",
    "from matplotlib import pyplot as plt\n",
    "\n",
    "plt.rcParams[\"figure.figsize\"] = (12, 7)"
   ]
  },
  {
   "cell_type": "code",
   "execution_count": 3,
   "metadata": {
    "ExecuteTime": {
     "end_time": "2020-11-02T21:44:59.185082Z",
     "start_time": "2020-11-02T21:44:58.497695Z"
    }
   },
   "outputs": [],
   "source": [
    "data = pd.read_csv(\"__MY_DATASET_PLACEHOLDER__\")\n",
    "\n",
    "# tu si prosím svoj dataset s hlasovaním upravte tak, aby zodpovedal očakávaným názvom a hodnotám\n",
    "\n",
    "data.drop(columns=[\"Unnamed: 0\"], inplace=True)\n",
    "data.rename(\n",
    "    columns={\n",
    "        \"Jméno\": \"name\", \"Strana\": \"party\", \"Um. id.\": \"vote_id\", \"Hlas\": \"vote\"\n",
    "    },\n",
    "    inplace=True\n",
    ")"
   ]
  },
  {
   "cell_type": "code",
   "execution_count": 39,
   "metadata": {
    "ExecuteTime": {
     "end_time": "2020-11-03T12:40:02.551452Z",
     "start_time": "2020-11-03T12:40:02.232587Z"
    }
   },
   "outputs": [
    {
     "data": {
      "text/html": [
       "<div>\n",
       "<style scoped>\n",
       "    .dataframe tbody tr th:only-of-type {\n",
       "        vertical-align: middle;\n",
       "    }\n",
       "\n",
       "    .dataframe tbody tr th {\n",
       "        vertical-align: top;\n",
       "    }\n",
       "\n",
       "    .dataframe thead th {\n",
       "        text-align: right;\n",
       "    }\n",
       "</style>\n",
       "<table border=\"1\" class=\"dataframe\">\n",
       "  <thead>\n",
       "    <tr style=\"text-align: right;\">\n",
       "      <th></th>\n",
       "      <th>name</th>\n",
       "      <th>party</th>\n",
       "      <th>vote_id</th>\n",
       "      <th>vote</th>\n",
       "    </tr>\n",
       "  </thead>\n",
       "  <tbody>\n",
       "    <tr>\n",
       "      <th>0</th>\n",
       "      <td>Věra Adámková</td>\n",
       "      <td>ANO</td>\n",
       "      <td>0</td>\n",
       "      <td>1</td>\n",
       "    </tr>\n",
       "    <tr>\n",
       "      <th>1</th>\n",
       "      <td>Andrej Babiš</td>\n",
       "      <td>ANO</td>\n",
       "      <td>0</td>\n",
       "      <td>1</td>\n",
       "    </tr>\n",
       "    <tr>\n",
       "      <th>2</th>\n",
       "      <td>Andrea Babišová</td>\n",
       "      <td>ANO</td>\n",
       "      <td>0</td>\n",
       "      <td>1</td>\n",
       "    </tr>\n",
       "    <tr>\n",
       "      <th>3</th>\n",
       "      <td>Margita Balaštíková</td>\n",
       "      <td>ANO</td>\n",
       "      <td>0</td>\n",
       "      <td>1</td>\n",
       "    </tr>\n",
       "    <tr>\n",
       "      <th>4</th>\n",
       "      <td>Josef Bělica</td>\n",
       "      <td>ANO</td>\n",
       "      <td>0</td>\n",
       "      <td>1</td>\n",
       "    </tr>\n",
       "  </tbody>\n",
       "</table>\n",
       "</div>"
      ],
      "text/plain": [
       "                  name party  vote_id  vote\n",
       "0        Věra Adámková   ANO        0     1\n",
       "1         Andrej Babiš   ANO        0     1\n",
       "2      Andrea Babišová   ANO        0     1\n",
       "3  Margita Balaštíková   ANO        0     1\n",
       "4         Josef Bělica   ANO        0     1"
      ]
     },
     "execution_count": 39,
     "metadata": {},
     "output_type": "execute_result"
    }
   ],
   "source": [
    "data.head()"
   ]
  },
  {
   "cell_type": "markdown",
   "metadata": {},
   "source": [
    "## Úloha 1\n",
    "\n",
    "Odchody poslancov a prebehnutia medzi stranami\n",
    "\n",
    "### Odchody poslancov zo snemovne:\n",
    "odišiel taký poslanec, ktorý nemá evidované nejaký hlas pre každé hlasovanie a zároveň nemá hlas na poslednej schôdzi"
   ]
  },
  {
   "cell_type": "code",
   "execution_count": 4,
   "metadata": {
    "ExecuteTime": {
     "end_time": "2020-11-02T21:45:00.376708Z",
     "start_time": "2020-11-02T21:45:00.359250Z"
    }
   },
   "outputs": [],
   "source": [
    "total_votings = len(data[\"vote_id\"].unique())"
   ]
  },
  {
   "cell_type": "code",
   "execution_count": 5,
   "metadata": {
    "ExecuteTime": {
     "end_time": "2020-11-02T21:45:01.011194Z",
     "start_time": "2020-11-02T21:45:00.800300Z"
    }
   },
   "outputs": [
    {
     "data": {
      "text/plain": [
       "name\n",
       "Adam Kalous                     6980\n",
       "Adam Vojtěch                    6980\n",
       "Alena Gajdůšková                6980\n",
       "Alexander Černý                 6980\n",
       "Aleš Juchelka                   6980\n",
       "                                ... \n",
       "Zbyněk Stanjura                 6980\n",
       "Zdeněk Ondráček                 6980\n",
       "Zdeněk Podal                    6980\n",
       "Zuzana Majerová Zahradníková    6980\n",
       "Zuzana Ožanová                  6980\n",
       "Name: vote, Length: 213, dtype: int64"
      ]
     },
     "execution_count": 5,
     "metadata": {},
     "output_type": "execute_result"
    }
   ],
   "source": [
    "deputy_votes = data.groupby(\"name\").count()[\"vote\"]\n",
    "deputy_votes"
   ]
  },
  {
   "cell_type": "code",
   "execution_count": 6,
   "metadata": {
    "ExecuteTime": {
     "end_time": "2020-11-02T21:45:01.890397Z",
     "start_time": "2020-11-02T21:45:01.878319Z"
    }
   },
   "outputs": [
    {
     "data": {
      "text/plain": [
       "name\n",
       "Bohuslav Sobotka                498\n",
       "Dan Ťok                        2464\n",
       "Eva Matyášová                  6964\n",
       "František Navrkal              3493\n",
       "Irena Blažková                  433\n",
       "Iva Kalátová                   4516\n",
       "Jaroslava Pokorná Jermanová      16\n",
       "Jiří Hlavatý                     16\n",
       "Marie Pěnčíková                5434\n",
       "Martin Půta                      16\n",
       "Martin Stropnický              1210\n",
       "Mikuláš Peksa                  3487\n",
       "Milan Chovanec                 2464\n",
       "Milan Pour                     6964\n",
       "Monika Červíčková              6103\n",
       "Ondřej Babka                   3253\n",
       "Petr Bendl                     3253\n",
       "Petr Pávek                     6964\n",
       "Petr Venhoda                   5770\n",
       "Petr Vrána                     6547\n",
       "Radka Maxová                   3727\n",
       "Robert Pelikán                  877\n",
       "Roman Sklenák                  6482\n",
       "Veronika Vrecionová            3727\n",
       "Vladimír Koníček               1546\n",
       "Václav Votava                  4516\n",
       "Name: vote, dtype: int64"
      ]
     },
     "execution_count": 6,
     "metadata": {},
     "output_type": "execute_result"
    }
   ],
   "source": [
    "deputies_not_whole_time = deputy_votes[deputy_votes < total_votings]\n",
    "deputies_not_whole_time"
   ]
  },
  {
   "cell_type": "code",
   "execution_count": 7,
   "metadata": {
    "ExecuteTime": {
     "end_time": "2020-11-02T21:45:02.626493Z",
     "start_time": "2020-11-02T21:45:02.612563Z"
    }
   },
   "outputs": [],
   "source": [
    "deputies_new = deputies_not_whole_time[\n",
    "    deputies_not_whole_time.index.isin(\n",
    "        data[data[\"vote_id\"] == data[\"vote_id\"].max()][\"name\"]\n",
    "    )\n",
    "]\n",
    "deputies_left = deputies_not_whole_time[deputies_not_whole_time.index.symmetric_difference(deputies_new.index)]"
   ]
  },
  {
   "cell_type": "code",
   "execution_count": 8,
   "metadata": {
    "ExecuteTime": {
     "end_time": "2020-11-02T21:45:03.380033Z",
     "start_time": "2020-11-02T21:45:03.371232Z"
    }
   },
   "outputs": [
    {
     "data": {
      "text/plain": [
       "name\n",
       "Bohuslav Sobotka                498\n",
       "Dan Ťok                        2464\n",
       "Jaroslava Pokorná Jermanová      16\n",
       "Jiří Hlavatý                     16\n",
       "Martin Půta                      16\n",
       "Martin Stropnický              1210\n",
       "Mikuláš Peksa                  3487\n",
       "Milan Chovanec                 2464\n",
       "Petr Vrána                     6547\n",
       "Radka Maxová                   3727\n",
       "Robert Pelikán                  877\n",
       "Veronika Vrecionová            3727\n",
       "Vladimír Koníček               1546\n",
       "Name: vote, dtype: int64"
      ]
     },
     "execution_count": 8,
     "metadata": {},
     "output_type": "execute_result"
    }
   ],
   "source": [
    "deputies_left"
   ]
  },
  {
   "cell_type": "code",
   "execution_count": 9,
   "metadata": {
    "ExecuteTime": {
     "end_time": "2020-11-02T21:45:05.041436Z",
     "start_time": "2020-11-02T21:45:05.031623Z"
    }
   },
   "outputs": [
    {
     "data": {
      "text/plain": [
       "name\n",
       "Eva Matyášová        6964\n",
       "František Navrkal    3493\n",
       "Irena Blažková        433\n",
       "Iva Kalátová         4516\n",
       "Marie Pěnčíková      5434\n",
       "Milan Pour           6964\n",
       "Monika Červíčková    6103\n",
       "Ondřej Babka         3253\n",
       "Petr Bendl           3253\n",
       "Petr Pávek           6964\n",
       "Petr Venhoda         5770\n",
       "Roman Sklenák        6482\n",
       "Václav Votava        4516\n",
       "Name: vote, dtype: int64"
      ]
     },
     "execution_count": 9,
     "metadata": {},
     "output_type": "execute_result"
    }
   ],
   "source": [
    "deputies_new"
   ]
  },
  {
   "cell_type": "code",
   "execution_count": 10,
   "metadata": {
    "ExecuteTime": {
     "end_time": "2020-11-02T21:45:06.090345Z",
     "start_time": "2020-11-02T21:45:05.840149Z"
    }
   },
   "outputs": [
    {
     "data": {
      "text/plain": [
       "<AxesSubplot:ylabel='name'>"
      ]
     },
     "execution_count": 10,
     "metadata": {},
     "output_type": "execute_result"
    },
    {
     "data": {
      "image/png": "[encoded data removed]",
      "text/plain": [
       "<Figure size 864x504 with 1 Axes>"
      ]
     },
     "metadata": {},
     "output_type": "display_data"
    }
   ],
   "source": [
    "data[data[\"name\"].isin(deputies_left.index)].groupby(\"party\")[\"name\"].nunique().plot(kind=\"pie\")"
   ]
  },
  {
   "cell_type": "code",
   "execution_count": 11,
   "metadata": {
    "ExecuteTime": {
     "end_time": "2020-11-02T21:45:07.881490Z",
     "start_time": "2020-11-02T21:45:07.650025Z"
    }
   },
   "outputs": [
    {
     "data": {
      "text/plain": [
       "<AxesSubplot:xlabel='party'>"
      ]
     },
     "execution_count": 11,
     "metadata": {},
     "output_type": "execute_result"
    },
    {
     "data": {
      "image/png": "[encoded data removed]",
      "text/plain": [
       "<Figure size 864x504 with 1 Axes>"
      ]
     },
     "metadata": {
      "needs_background": "light"
     },
     "output_type": "display_data"
    }
   ],
   "source": [
    "data[data[\"name\"].isin(deputies_left.index)].groupby(\"party\")[\"name\"].nunique().plot(kind=\"bar\")"
   ]
  },
  {
   "cell_type": "markdown",
   "metadata": {},
   "source": [
    "### Prechody poslancov medzi stranami"
   ]
  },
  {
   "cell_type": "code",
   "execution_count": 12,
   "metadata": {
    "ExecuteTime": {
     "end_time": "2020-11-02T21:45:09.883806Z",
     "start_time": "2020-11-02T21:45:09.679796Z"
    }
   },
   "outputs": [
    {
     "data": {
      "text/html": [
       "<div>\n",
       "<style scoped>\n",
       "    .dataframe tbody tr th:only-of-type {\n",
       "        vertical-align: middle;\n",
       "    }\n",
       "\n",
       "    .dataframe tbody tr th {\n",
       "        vertical-align: top;\n",
       "    }\n",
       "\n",
       "    .dataframe thead th {\n",
       "        text-align: right;\n",
       "    }\n",
       "</style>\n",
       "<table border=\"1\" class=\"dataframe\">\n",
       "  <thead>\n",
       "    <tr style=\"text-align: right;\">\n",
       "      <th>party</th>\n",
       "      <th>ANO</th>\n",
       "      <th>KDU-ČSL</th>\n",
       "      <th>KSČM</th>\n",
       "      <th>Nezařaz</th>\n",
       "      <th>ODS</th>\n",
       "      <th>Piráti</th>\n",
       "      <th>SPD</th>\n",
       "      <th>STAN</th>\n",
       "      <th>TOP09</th>\n",
       "      <th>ČSSD</th>\n",
       "    </tr>\n",
       "    <tr>\n",
       "      <th>vote_id</th>\n",
       "      <th></th>\n",
       "      <th></th>\n",
       "      <th></th>\n",
       "      <th></th>\n",
       "      <th></th>\n",
       "      <th></th>\n",
       "      <th></th>\n",
       "      <th></th>\n",
       "      <th></th>\n",
       "      <th></th>\n",
       "    </tr>\n",
       "  </thead>\n",
       "  <tbody>\n",
       "    <tr>\n",
       "      <th>0</th>\n",
       "      <td>78.0</td>\n",
       "      <td>10.0</td>\n",
       "      <td>15.0</td>\n",
       "      <td>0.0</td>\n",
       "      <td>25.0</td>\n",
       "      <td>22.0</td>\n",
       "      <td>22.0</td>\n",
       "      <td>6.0</td>\n",
       "      <td>7.0</td>\n",
       "      <td>15.0</td>\n",
       "    </tr>\n",
       "    <tr>\n",
       "      <th>1</th>\n",
       "      <td>78.0</td>\n",
       "      <td>10.0</td>\n",
       "      <td>15.0</td>\n",
       "      <td>0.0</td>\n",
       "      <td>25.0</td>\n",
       "      <td>22.0</td>\n",
       "      <td>22.0</td>\n",
       "      <td>6.0</td>\n",
       "      <td>7.0</td>\n",
       "      <td>15.0</td>\n",
       "    </tr>\n",
       "    <tr>\n",
       "      <th>2</th>\n",
       "      <td>78.0</td>\n",
       "      <td>10.0</td>\n",
       "      <td>15.0</td>\n",
       "      <td>0.0</td>\n",
       "      <td>25.0</td>\n",
       "      <td>22.0</td>\n",
       "      <td>22.0</td>\n",
       "      <td>6.0</td>\n",
       "      <td>7.0</td>\n",
       "      <td>15.0</td>\n",
       "    </tr>\n",
       "    <tr>\n",
       "      <th>3</th>\n",
       "      <td>78.0</td>\n",
       "      <td>10.0</td>\n",
       "      <td>15.0</td>\n",
       "      <td>0.0</td>\n",
       "      <td>25.0</td>\n",
       "      <td>22.0</td>\n",
       "      <td>22.0</td>\n",
       "      <td>6.0</td>\n",
       "      <td>7.0</td>\n",
       "      <td>15.0</td>\n",
       "    </tr>\n",
       "    <tr>\n",
       "      <th>4</th>\n",
       "      <td>78.0</td>\n",
       "      <td>10.0</td>\n",
       "      <td>15.0</td>\n",
       "      <td>0.0</td>\n",
       "      <td>25.0</td>\n",
       "      <td>22.0</td>\n",
       "      <td>22.0</td>\n",
       "      <td>6.0</td>\n",
       "      <td>7.0</td>\n",
       "      <td>15.0</td>\n",
       "    </tr>\n",
       "    <tr>\n",
       "      <th>...</th>\n",
       "      <td>...</td>\n",
       "      <td>...</td>\n",
       "      <td>...</td>\n",
       "      <td>...</td>\n",
       "      <td>...</td>\n",
       "      <td>...</td>\n",
       "      <td>...</td>\n",
       "      <td>...</td>\n",
       "      <td>...</td>\n",
       "      <td>...</td>\n",
       "    </tr>\n",
       "    <tr>\n",
       "      <th>6978</th>\n",
       "      <td>78.0</td>\n",
       "      <td>10.0</td>\n",
       "      <td>15.0</td>\n",
       "      <td>6.0</td>\n",
       "      <td>23.0</td>\n",
       "      <td>22.0</td>\n",
       "      <td>19.0</td>\n",
       "      <td>6.0</td>\n",
       "      <td>7.0</td>\n",
       "      <td>14.0</td>\n",
       "    </tr>\n",
       "    <tr>\n",
       "      <th>6979</th>\n",
       "      <td>78.0</td>\n",
       "      <td>10.0</td>\n",
       "      <td>15.0</td>\n",
       "      <td>6.0</td>\n",
       "      <td>23.0</td>\n",
       "      <td>22.0</td>\n",
       "      <td>19.0</td>\n",
       "      <td>6.0</td>\n",
       "      <td>7.0</td>\n",
       "      <td>14.0</td>\n",
       "    </tr>\n",
       "    <tr>\n",
       "      <th>6980</th>\n",
       "      <td>78.0</td>\n",
       "      <td>10.0</td>\n",
       "      <td>15.0</td>\n",
       "      <td>6.0</td>\n",
       "      <td>23.0</td>\n",
       "      <td>22.0</td>\n",
       "      <td>19.0</td>\n",
       "      <td>6.0</td>\n",
       "      <td>7.0</td>\n",
       "      <td>14.0</td>\n",
       "    </tr>\n",
       "    <tr>\n",
       "      <th>6981</th>\n",
       "      <td>78.0</td>\n",
       "      <td>10.0</td>\n",
       "      <td>15.0</td>\n",
       "      <td>6.0</td>\n",
       "      <td>23.0</td>\n",
       "      <td>22.0</td>\n",
       "      <td>19.0</td>\n",
       "      <td>6.0</td>\n",
       "      <td>7.0</td>\n",
       "      <td>14.0</td>\n",
       "    </tr>\n",
       "    <tr>\n",
       "      <th>6982</th>\n",
       "      <td>78.0</td>\n",
       "      <td>10.0</td>\n",
       "      <td>15.0</td>\n",
       "      <td>6.0</td>\n",
       "      <td>23.0</td>\n",
       "      <td>22.0</td>\n",
       "      <td>19.0</td>\n",
       "      <td>6.0</td>\n",
       "      <td>7.0</td>\n",
       "      <td>14.0</td>\n",
       "    </tr>\n",
       "  </tbody>\n",
       "</table>\n",
       "<p>6980 rows × 10 columns</p>\n",
       "</div>"
      ],
      "text/plain": [
       "party     ANO  KDU-ČSL  KSČM  Nezařaz   ODS  Piráti   SPD  STAN  TOP09  ČSSD\n",
       "vote_id                                                                     \n",
       "0        78.0     10.0  15.0      0.0  25.0    22.0  22.0   6.0    7.0  15.0\n",
       "1        78.0     10.0  15.0      0.0  25.0    22.0  22.0   6.0    7.0  15.0\n",
       "2        78.0     10.0  15.0      0.0  25.0    22.0  22.0   6.0    7.0  15.0\n",
       "3        78.0     10.0  15.0      0.0  25.0    22.0  22.0   6.0    7.0  15.0\n",
       "4        78.0     10.0  15.0      0.0  25.0    22.0  22.0   6.0    7.0  15.0\n",
       "...       ...      ...   ...      ...   ...     ...   ...   ...    ...   ...\n",
       "6978     78.0     10.0  15.0      6.0  23.0    22.0  19.0   6.0    7.0  14.0\n",
       "6979     78.0     10.0  15.0      6.0  23.0    22.0  19.0   6.0    7.0  14.0\n",
       "6980     78.0     10.0  15.0      6.0  23.0    22.0  19.0   6.0    7.0  14.0\n",
       "6981     78.0     10.0  15.0      6.0  23.0    22.0  19.0   6.0    7.0  14.0\n",
       "6982     78.0     10.0  15.0      6.0  23.0    22.0  19.0   6.0    7.0  14.0\n",
       "\n",
       "[6980 rows x 10 columns]"
      ]
     },
     "execution_count": 12,
     "metadata": {},
     "output_type": "execute_result"
    }
   ],
   "source": [
    "party_vote_id_count = data.groupby([\"vote_id\", \"party\"]).size().unstack().fillna(0.0)\n",
    "party_vote_id_count"
   ]
  },
  {
   "cell_type": "code",
   "execution_count": 38,
   "metadata": {
    "ExecuteTime": {
     "end_time": "2020-11-03T10:42:51.433363Z",
     "start_time": "2020-11-03T10:42:50.846511Z"
    }
   },
   "outputs": [
    {
     "data": {
      "text/plain": [
       "<matplotlib.legend.Legend at 0x11ee2d9a0>"
      ]
     },
     "execution_count": 38,
     "metadata": {},
     "output_type": "execute_result"
    },
    {
     "data": {
      "image/png": "[encoded data removed]",
      "text/plain": [
       "<Figure size 864x504 with 1 Axes>"
      ]
     },
     "metadata": {
      "needs_background": "light"
     },
     "output_type": "display_data"
    }
   ],
   "source": [
    "party_vote_id_count.plot(xlabel=\"Hlasovanie\", ylabel=\"Počet hlasujúcich\")\n",
    "\n",
    "plt.legend(bbox_to_anchor=(1.15, 1))  # nastavenie umiestnenia legendy"
   ]
  },
  {
   "cell_type": "code",
   "execution_count": 36,
   "metadata": {
    "ExecuteTime": {
     "end_time": "2020-11-02T22:12:40.165031Z",
     "start_time": "2020-11-02T22:12:39.429902Z"
    }
   },
   "outputs": [
    {
     "data": {
      "text/plain": [
       "<matplotlib.legend.Legend at 0x11c6a1160>"
      ]
     },
     "execution_count": 36,
     "metadata": {},
     "output_type": "execute_result"
    },
    {
     "data": {
      "image/png": "[encoded data removed]",
      "text/plain": [
       "<Figure size 864x504 with 1 Axes>"
      ]
     },
     "metadata": {
      "needs_background": "light"
     },
     "output_type": "display_data"
    }
   ],
   "source": [
    "unchanged_party_members = [\n",
    "    column \n",
    "    for column in party_vote_id_count.columns \n",
    "    if len(party_vote_id_count[column].unique()) == 1\n",
    "]\n",
    "\n",
    "party_vote_id_count.drop(columns=unchanged_party_members).plot(xlabel=\"Hlasovanie\", ylabel=\"Počet hlasujúcich\")\n",
    "\n",
    "plt.legend(bbox_to_anchor=(1.15, 1))  # nastavenie umiestnenia legendy"
   ]
  },
  {
   "cell_type": "markdown",
   "metadata": {
    "ExecuteTime": {
     "end_time": "2020-11-02T20:48:29.595688Z",
     "start_time": "2020-11-02T20:48:29.581938Z"
    }
   },
   "source": [
    "## Úloha 3\n",
    "\n",
    "Ako často strany hlasujú v zhode a ako často proti sebe.\n",
    "\n",
    "Využijeme koeficient korelácie medzi jednotlivými stranami naprieč všetkými hlasovaniami.\n",
    "\n",
    "Transformácia hlasov na číselné hodnoty:\n",
    "- **A** ->  1\n",
    "- **N** -> -1\n",
    "- **0** ->  0\n",
    "- **M** ->  0\n",
    "- **Z** -> -1  (zdržanie znamená nepodporenie návrhu, respektíve spôsobenie istej obštrukcie, počítam ho teda ako hlasovanie proti)"
   ]
  },
  {
   "cell_type": "code",
   "execution_count": 15,
   "metadata": {
    "ExecuteTime": {
     "end_time": "2020-11-02T21:45:16.230161Z",
     "start_time": "2020-11-02T21:45:15.647222Z"
    }
   },
   "outputs": [],
   "source": [
    "data[\"vote\"] = data[\"vote\"].replace({\"A\": 1, \"N\": -1, \"Z\": -1, \"0\": 0, \"M\": 0})"
   ]
  },
  {
   "cell_type": "code",
   "execution_count": 16,
   "metadata": {
    "ExecuteTime": {
     "end_time": "2020-11-02T21:45:27.864974Z",
     "start_time": "2020-11-02T21:45:16.361379Z"
    }
   },
   "outputs": [],
   "source": [
    "party_votes = data.groupby([\"vote_id\", \"party\"]).apply(lambda d: d[\"vote\"].mode()[0])"
   ]
  },
  {
   "cell_type": "code",
   "execution_count": 17,
   "metadata": {
    "ExecuteTime": {
     "end_time": "2020-11-02T21:45:27.894592Z",
     "start_time": "2020-11-02T21:45:27.868602Z"
    }
   },
   "outputs": [],
   "source": [
    "corr_matrix = party_votes.unstack().fillna(0.0).corr()"
   ]
  },
  {
   "cell_type": "code",
   "execution_count": 18,
   "metadata": {
    "ExecuteTime": {
     "end_time": "2020-11-02T21:45:30.457531Z",
     "start_time": "2020-11-02T21:45:27.897401Z"
    }
   },
   "outputs": [
    {
     "data": {
      "text/plain": [
       "<AxesSubplot:xlabel='party', ylabel='party'>"
      ]
     },
     "execution_count": 18,
     "metadata": {},
     "output_type": "execute_result"
    },
    {
     "data": {
      "image/png": "[encoded data removed]",
      "text/plain": [
       "<Figure size 864x504 with 2 Axes>"
      ]
     },
     "metadata": {
      "needs_background": "light"
     },
     "output_type": "display_data"
    }
   ],
   "source": [
    "import seaborn as sns\n",
    "\n",
    "sns.heatmap(corr_matrix, square=True, annot=True)"
   ]
  },
  {
   "cell_type": "code",
   "execution_count": null,
   "metadata": {},
   "outputs": [],
   "source": []
  }
 ],
 "metadata": {
  "kernelspec": {
   "display_name": "Python 3",
   "language": "python",
   "name": "python3"
  },
  "language_info": {
   "codemirror_mode": {
    "name": "ipython",
    "version": 3
   },
   "file_extension": ".py",
   "mimetype": "text/x-python",
   "name": "python",
   "nbconvert_exporter": "python",
   "pygments_lexer": "ipython3",
   "version": "3.9.0"
  }
 },
 "nbformat": 4,
 "nbformat_minor": 4
}
